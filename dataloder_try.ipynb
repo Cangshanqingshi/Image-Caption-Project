{
 "cells": [
  {
   "cell_type": "code",
   "execution_count": 1,
   "metadata": {
    "scrolled": true
   },
   "outputs": [
    {
     "name": "stderr",
     "output_type": "stream",
     "text": [
      "[nltk_data] Error loading punkt: [WinError 10060]\n",
      "[nltk_data]     由于连接方在一段时间后没有正确答复或连接的主机没有反应，连接尝试失败。\n",
      "D:\\python\\anaconda\\envs\\PyTorch\\lib\\site-packages\\torchvision\\io\\image.py:11: UserWarning: Failed to load image Python extension: Could not find module 'D:\\python\\anaconda\\envs\\PyTorch\\Lib\\site-packages\\torchvision\\image.pyd' (or one of its dependencies). Try using the full path with constructor syntax.\n",
      "  warn(f\"Failed to load image Python extension: {e}\")\n"
     ]
    },
    {
     "name": "stdout",
     "output_type": "stream",
     "text": [
      "loading annotations into memory...\n",
      "Done (t=1.14s)\n",
      "creating index...\n",
      "index created!\n",
      "[0/591753] 正在读取captions并根据其分词建立词典...\n",
      "[100000/591753] 正在读取captions并根据其分词建立词典...\n",
      "[200000/591753] 正在读取captions并根据其分词建立词典...\n",
      "[300000/591753] 正在读取captions并根据其分词建立词典...\n",
      "[400000/591753] 正在读取captions并根据其分词建立词典...\n",
      "[500000/591753] 正在读取captions并根据其分词建立词典...\n",
      "初始化vocab.pkl文件成功\n",
      "loading annotations into memory...\n",
      "Done (t=1.22s)\n",
      "creating index...\n",
      "index created!\n",
      "正在对caption分词...\n"
     ]
    },
    {
     "name": "stderr",
     "output_type": "stream",
     "text": [
      "100%|████████████████████████████████████████████████████████████████████████| 591753/591753 [01:05<00:00, 9022.19it/s]\n"
     ]
    }
   ],
   "source": [
    "import sys\n",
    "from pycocotools.coco import COCO\n",
    "import nltk\n",
    "nltk.download('punkt')\n",
    "from raw_program.data_loader import get_loader\n",
    "from torchvision import transforms\n",
    "\n",
    "COCOAPIROOT = r\"D:\\学习资料\\实验室\"\n",
    "\n",
    "# Define a transform to pre-process the training images.\n",
    "transform_train = transforms.Compose([ \n",
    "    transforms.Resize(256),                          # smaller edge of image resized to 256\n",
    "    transforms.RandomCrop(224),                      # get 224x224 crop from random location\n",
    "    transforms.RandomHorizontalFlip(),               # horizontally flip image with probability=0.5\n",
    "    transforms.ToTensor(),                           # convert the PIL Image to a tensor\n",
    "    transforms.Normalize((0.485, 0.456, 0.406),      # normalize image for pre-trained model\n",
    "                         (0.229, 0.224, 0.225))])\n",
    "\n",
    "# Set the minimum word count threshold.\n",
    "vocab_threshold = 5\n",
    "\n",
    "# Specify the batch size.\n",
    "batch_size = 10\n",
    "\n",
    "# Obtain the data loader.\n",
    "data_loader = get_loader(transform=transform_train,\n",
    "                         mode='train',\n",
    "                         batch_size=batch_size,\n",
    "                         vocab_threshold=vocab_threshold,\n",
    "                         vocab_from_file=False,\n",
    "                         cocoapi_loc=COCOAPIROOT)"
   ]
  },
  {
   "cell_type": "code",
   "execution_count": 2,
   "metadata": {},
   "outputs": [],
   "source": [
    "sample_caption = 'A person doing a trick on a rail while riding a skateboard.'"
   ]
  },
  {
   "cell_type": "code",
   "execution_count": 3,
   "metadata": {},
   "outputs": [
    {
     "name": "stdout",
     "output_type": "stream",
     "text": [
      "['a', 'person', 'doing', 'a', 'trick', 'on', 'a', 'rail', 'while', 'riding', 'a', 'skateboard', '.']\n"
     ]
    }
   ],
   "source": [
    "import nltk\n",
    "\n",
    "sample_tokens = nltk.tokenize.word_tokenize(str(sample_caption).lower())\n",
    "print(sample_tokens)"
   ]
  },
  {
   "cell_type": "code",
   "execution_count": 4,
   "metadata": {},
   "outputs": [
    {
     "name": "stdout",
     "output_type": "stream",
     "text": [
      "Special start word: <start>\n",
      "[0]\n"
     ]
    }
   ],
   "source": [
    "sample_caption = []\n",
    "\n",
    "start_word = data_loader.dataset.vocab.start_word\n",
    "print('Special start word:', start_word)\n",
    "sample_caption.append(data_loader.dataset.vocab(start_word))\n",
    "print(sample_caption)"
   ]
  },
  {
   "cell_type": "code",
   "execution_count": 5,
   "metadata": {},
   "outputs": [
    {
     "name": "stdout",
     "output_type": "stream",
     "text": [
      "[0, 3, 145, 495, 3, 727, 49, 3, 681, 265, 106, 3, 147, 12]\n"
     ]
    }
   ],
   "source": [
    "sample_caption.extend([data_loader.dataset.vocab(token) for token in sample_tokens])\n",
    "print(sample_caption)"
   ]
  },
  {
   "cell_type": "code",
   "execution_count": 6,
   "metadata": {},
   "outputs": [
    {
     "name": "stdout",
     "output_type": "stream",
     "text": [
      "Special end word: <end>\n",
      "[0, 3, 145, 495, 3, 727, 49, 3, 681, 265, 106, 3, 147, 12, 1]\n"
     ]
    }
   ],
   "source": [
    "end_word = data_loader.dataset.vocab.end_word\n",
    "print('Special end word:', end_word)\n",
    "\n",
    "sample_caption.append(data_loader.dataset.vocab(end_word))\n",
    "print(sample_caption)"
   ]
  },
  {
   "cell_type": "code",
   "execution_count": 7,
   "metadata": {},
   "outputs": [
    {
     "data": {
      "text/plain": [
       "{'<start>': 0,\n",
       " '<end>': 1,\n",
       " '<unk>': 2,\n",
       " 'a': 3,\n",
       " 'bicycle': 4,\n",
       " 'replica': 5,\n",
       " 'with': 6,\n",
       " 'clock': 7,\n",
       " 'as': 8,\n",
       " 'the': 9}"
      ]
     },
     "execution_count": 7,
     "metadata": {},
     "output_type": "execute_result"
    }
   ],
   "source": [
    "# Preview the word2idx dictionary.\n",
    "dict(list(data_loader.dataset.vocab.word2idx.items())[:10])"
   ]
  },
  {
   "cell_type": "code",
   "execution_count": 8,
   "metadata": {},
   "outputs": [
    {
     "name": "stdout",
     "output_type": "stream",
     "text": [
      "Total number of tokens in vocabulary: 10321\n"
     ]
    }
   ],
   "source": [
    "# Print the total number of keys in the word2idx dictionary.\n",
    "print('Total number of tokens in vocabulary:', len(data_loader.dataset.vocab))"
   ]
  },
  {
   "cell_type": "code",
   "execution_count": 9,
   "metadata": {},
   "outputs": [
    {
     "name": "stdout",
     "output_type": "stream",
     "text": [
      "value: 10 --- count: 123316\n",
      "value: 11 --- count: 114543\n",
      "value:  9 --- count: 102606\n",
      "value: 12 --- count: 82271\n",
      "value: 13 --- count: 53723\n",
      "value: 14 --- count: 31924\n",
      "value:  8 --- count: 29696\n",
      "value: 15 --- count: 18511\n",
      "value: 16 --- count: 11022\n",
      "value: 17 --- count:  6928\n",
      "value: 18 --- count:  4382\n",
      "value: 19 --- count:  2890\n",
      "value:  7 --- count:  2297\n",
      "value: 20 --- count:  2047\n",
      "value: 21 --- count:  1443\n",
      "value: 22 --- count:   978\n",
      "value: 23 --- count:   746\n",
      "value: 24 --- count:   563\n",
      "value: 25 --- count:   390\n",
      "value: 26 --- count:   287\n",
      "value: 27 --- count:   212\n",
      "value: 28 --- count:   162\n",
      "value: 29 --- count:   124\n",
      "value: 30 --- count:    92\n",
      "value: 31 --- count:    80\n",
      "value: 32 --- count:    61\n",
      "value: 34 --- count:    51\n",
      "value: 33 --- count:    45\n",
      "value: 37 --- count:    43\n",
      "value: 35 --- count:    42\n",
      "value: 36 --- count:    32\n",
      "value: 38 --- count:    27\n",
      "value: 39 --- count:    25\n",
      "value: 43 --- count:    23\n",
      "value: 44 --- count:    21\n",
      "value: 40 --- count:    18\n",
      "value: 45 --- count:    16\n",
      "value: 46 --- count:    15\n",
      "value: 48 --- count:    15\n",
      "value: 47 --- count:    12\n",
      "value: 42 --- count:    12\n",
      "value: 49 --- count:    10\n",
      "value: 41 --- count:     9\n",
      "value: 51 --- count:     9\n",
      "value: 50 --- count:     8\n",
      "value: 52 --- count:     7\n",
      "value: 53 --- count:     5\n",
      "value:  6 --- count:     5\n",
      "value: 55 --- count:     3\n",
      "value: 54 --- count:     3\n",
      "value: 56 --- count:     2\n",
      "value: 57 --- count:     1\n"
     ]
    }
   ],
   "source": [
    "from collections import Counter\n",
    "\n",
    "# Tally the total number of training captions with each length.\n",
    "counter = Counter(data_loader.dataset.caption_lengths)\n",
    "lengths = sorted(counter.items(), key=lambda pair: pair[1], reverse=True)\n",
    "for value, count in lengths:\n",
    "    print('value: %2d --- count: %5d' % (value, count))"
   ]
  },
  {
   "cell_type": "code",
   "execution_count": 10,
   "metadata": {},
   "outputs": [
    {
     "name": "stderr",
     "output_type": "stream",
     "text": [
      "C:\\Windows\\Temp\\ipykernel_16860\\3723021540.py:3: UserWarning: \n",
      "\n",
      "`distplot` is a deprecated function and will be removed in seaborn v0.14.0.\n",
      "\n",
      "Please adapt your code to use either `displot` (a figure-level function with\n",
      "similar flexibility) or `histplot` (an axes-level function for histograms).\n",
      "\n",
      "For a guide to updating your code to use the new functions, please see\n",
      "https://gist.github.com/mwaskom/de44147ed2974457ad6372750bbe5751\n",
      "\n",
      "  sns.distplot(lengths, kde=False, bins=20)\n"
     ]
    },
    {
     "data": {
      "text/plain": [
       "<AxesSubplot:>"
      ]
     },
     "execution_count": 10,
     "metadata": {},
     "output_type": "execute_result"
    },
    {
     "data": {
      "image/png": "[encoded data removed]",
      "text/plain": [
       "<Figure size 432x288 with 1 Axes>"
      ]
     },
     "metadata": {
      "needs_background": "light"
     },
     "output_type": "display_data"
    }
   ],
   "source": [
    "import seaborn as sns\n",
    "\n",
    "sns.distplot(lengths, kde=False, bins=20)"
   ]
  },
  {
   "cell_type": "code",
   "execution_count": 11,
   "metadata": {},
   "outputs": [
    {
     "name": "stdout",
     "output_type": "stream",
     "text": [
      "sampled indices: [93881, 561292, 196110, 184093, 35108, 532545, 248913, 42386, 161362, 135127]\n",
      "images.shape: torch.Size([10, 3, 224, 224])\n",
      "captions.shape: torch.Size([10, 13])\n"
     ]
    }
   ],
   "source": [
    "import numpy as np\n",
    "import torch.utils.data as data\n",
    "\n",
    "indices = data_loader.dataset.get_train_indices()\n",
    "print('sampled indices:', indices)\n",
    "\n",
    "new_sampler = data.sampler.SubsetRandomSampler(indices=indices)\n",
    "data_loader.batch_sampler.sampler = new_sampler\n",
    "    \n",
    "images, captions = next(iter(data_loader))\n",
    "    \n",
    "print('images.shape:', images.shape)\n",
    "print('captions.shape:', captions.shape)"
   ]
  },
  {
   "cell_type": "code",
   "execution_count": null,
   "metadata": {},
   "outputs": [],
   "source": []
  }
 ],
 "metadata": {
  "kernelspec": {
   "display_name": "PyTorch",
   "language": "python",
   "name": "pytorch"
  },
  "language_info": {
   "codemirror_mode": {
    "name": "ipython",
    "version": 3
   },
   "file_extension": ".py",
   "mimetype": "text/x-python",
   "name": "python",
   "nbconvert_exporter": "python",
   "pygments_lexer": "ipython3",
   "version": "3.8.12"
  }
 },
 "nbformat": 4,
 "nbformat_minor": 2
}
